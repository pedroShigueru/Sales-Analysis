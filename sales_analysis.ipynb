{
 "cells": [
  {
   "cell_type": "code",
   "execution_count": 2,
   "metadata": {},
   "outputs": [],
   "source": [
    "import pandas as pd\n",
    "import os"
   ]
  },
  {
   "cell_type": "markdown",
   "metadata": {},
   "source": [
    "## Merging all months files in a single .csv file"
   ]
  },
  {
   "cell_type": "code",
   "execution_count": 3,
   "metadata": {},
   "outputs": [],
   "source": [
    "dataset_dir = \"./sales_dataset\"\n",
    "\n",
    "files_list = os.listdir(dataset_dir)\n",
    "\n",
    "df = pd.DataFrame()\n",
    "\n",
    "for file in files_list:\n",
    "\n",
    "    file_dir = dataset_dir + \"/\" + file\n",
    "    df_month = pd.read_csv(file_dir)\n",
    "    df = pd.concat([df, df_month], ignore_index=True)\n",
    "\n",
    "df.to_csv('sales_2019.csv', index=False)"
   ]
  },
  {
   "cell_type": "markdown",
   "metadata": {},
   "source": [
    "## Importing 2019 complete .csv sales files"
   ]
  },
  {
   "cell_type": "code",
   "execution_count": 4,
   "metadata": {},
   "outputs": [
    {
     "data": {
      "text/html": [
       "<div>\n",
       "<style scoped>\n",
       "    .dataframe tbody tr th:only-of-type {\n",
       "        vertical-align: middle;\n",
       "    }\n",
       "\n",
       "    .dataframe tbody tr th {\n",
       "        vertical-align: top;\n",
       "    }\n",
       "\n",
       "    .dataframe thead th {\n",
       "        text-align: right;\n",
       "    }\n",
       "</style>\n",
       "<table border=\"1\" class=\"dataframe\">\n",
       "  <thead>\n",
       "    <tr style=\"text-align: right;\">\n",
       "      <th></th>\n",
       "      <th>Order ID</th>\n",
       "      <th>Product</th>\n",
       "      <th>Quantity Ordered</th>\n",
       "      <th>Price Each</th>\n",
       "      <th>Order Date</th>\n",
       "      <th>Purchase Address</th>\n",
       "    </tr>\n",
       "  </thead>\n",
       "  <tbody>\n",
       "    <tr>\n",
       "      <th>0</th>\n",
       "      <td>222910</td>\n",
       "      <td>Apple Airpods Headphones</td>\n",
       "      <td>1</td>\n",
       "      <td>150</td>\n",
       "      <td>07/26/19 16:51</td>\n",
       "      <td>389 South St, Atlanta, GA 30301</td>\n",
       "    </tr>\n",
       "    <tr>\n",
       "      <th>1</th>\n",
       "      <td>222911</td>\n",
       "      <td>Flatscreen TV</td>\n",
       "      <td>1</td>\n",
       "      <td>300</td>\n",
       "      <td>07/05/19 08:55</td>\n",
       "      <td>590 4th St, Seattle, WA 98101</td>\n",
       "    </tr>\n",
       "    <tr>\n",
       "      <th>2</th>\n",
       "      <td>222912</td>\n",
       "      <td>AA Batteries (4-pack)</td>\n",
       "      <td>1</td>\n",
       "      <td>3.84</td>\n",
       "      <td>07/29/19 12:41</td>\n",
       "      <td>861 Hill St, Atlanta, GA 30301</td>\n",
       "    </tr>\n",
       "    <tr>\n",
       "      <th>3</th>\n",
       "      <td>222913</td>\n",
       "      <td>AA Batteries (4-pack)</td>\n",
       "      <td>1</td>\n",
       "      <td>3.84</td>\n",
       "      <td>07/28/19 10:15</td>\n",
       "      <td>190 Ridge St, Atlanta, GA 30301</td>\n",
       "    </tr>\n",
       "    <tr>\n",
       "      <th>4</th>\n",
       "      <td>222914</td>\n",
       "      <td>AAA Batteries (4-pack)</td>\n",
       "      <td>5</td>\n",
       "      <td>2.99</td>\n",
       "      <td>07/31/19 02:13</td>\n",
       "      <td>824 Forest St, Seattle, WA 98101</td>\n",
       "    </tr>\n",
       "  </tbody>\n",
       "</table>\n",
       "</div>"
      ],
      "text/plain": [
       "  Order ID                   Product Quantity Ordered Price Each  \\\n",
       "0   222910  Apple Airpods Headphones                1        150   \n",
       "1   222911             Flatscreen TV                1        300   \n",
       "2   222912     AA Batteries (4-pack)                1       3.84   \n",
       "3   222913     AA Batteries (4-pack)                1       3.84   \n",
       "4   222914    AAA Batteries (4-pack)                5       2.99   \n",
       "\n",
       "       Order Date                  Purchase Address  \n",
       "0  07/26/19 16:51   389 South St, Atlanta, GA 30301  \n",
       "1  07/05/19 08:55     590 4th St, Seattle, WA 98101  \n",
       "2  07/29/19 12:41    861 Hill St, Atlanta, GA 30301  \n",
       "3  07/28/19 10:15   190 Ridge St, Atlanta, GA 30301  \n",
       "4  07/31/19 02:13  824 Forest St, Seattle, WA 98101  "
      ]
     },
     "execution_count": 4,
     "metadata": {},
     "output_type": "execute_result"
    }
   ],
   "source": [
    "df = pd.read_csv(\"sales_2019.csv\")\n",
    "df.head()"
   ]
  },
  {
   "cell_type": "markdown",
   "metadata": {},
   "source": [
    "## Removing nan values"
   ]
  },
  {
   "cell_type": "code",
   "execution_count": 5,
   "metadata": {},
   "outputs": [
    {
     "name": "stdout",
     "output_type": "stream",
     "text": [
      "<class 'pandas.core.frame.DataFrame'>\n",
      "RangeIndex: 186850 entries, 0 to 186849\n",
      "Data columns (total 6 columns):\n",
      " #   Column            Non-Null Count   Dtype \n",
      "---  ------            --------------   ----- \n",
      " 0   Order ID          186305 non-null  object\n",
      " 1   Product           186305 non-null  object\n",
      " 2   Quantity Ordered  186305 non-null  object\n",
      " 3   Price Each        186305 non-null  object\n",
      " 4   Order Date        186305 non-null  object\n",
      " 5   Purchase Address  186305 non-null  object\n",
      "dtypes: object(6)\n",
      "memory usage: 8.6+ MB\n"
     ]
    }
   ],
   "source": [
    "df.info()"
   ]
  },
  {
   "cell_type": "code",
   "execution_count": 6,
   "metadata": {},
   "outputs": [
    {
     "data": {
      "text/plain": [
       "Order ID            545\n",
       "Product             545\n",
       "Quantity Ordered    545\n",
       "Price Each          545\n",
       "Order Date          545\n",
       "Purchase Address    545\n",
       "dtype: int64"
      ]
     },
     "execution_count": 6,
     "metadata": {},
     "output_type": "execute_result"
    }
   ],
   "source": [
    "df.isna().sum()"
   ]
  },
  {
   "cell_type": "code",
   "execution_count": 7,
   "metadata": {},
   "outputs": [
    {
     "name": "stdout",
     "output_type": "stream",
     "text": [
      "Number of rows before dropna:  186850\n",
      "Number of rows after dropna:  186305\n",
      "Removed rows:  545\n"
     ]
    }
   ],
   "source": [
    "shape_before = df.shape\n",
    "df = df.dropna()\n",
    "shape_after = df.shape\n",
    "\n",
    "n_removed_rows = shape_before[0] - shape_after[0]\n",
    "\n",
    "print(\"Number of rows before dropna: \",shape_before[0])\n",
    "print(\"Number of rows after dropna: \",shape_after[0])\n",
    "print(\"Removed rows: \", n_removed_rows)"
   ]
  },
  {
   "cell_type": "code",
   "execution_count": 8,
   "metadata": {},
   "outputs": [
    {
     "data": {
      "text/plain": [
       "Order ID            0\n",
       "Product             0\n",
       "Quantity Ordered    0\n",
       "Price Each          0\n",
       "Order Date          0\n",
       "Purchase Address    0\n",
       "dtype: int64"
      ]
     },
     "execution_count": 8,
     "metadata": {},
     "output_type": "execute_result"
    }
   ],
   "source": [
    "df.isna().sum()"
   ]
  },
  {
   "cell_type": "markdown",
   "metadata": {},
   "source": [
    "## Adding a month column"
   ]
  },
  {
   "cell_type": "code",
   "execution_count": 9,
   "metadata": {},
   "outputs": [
    {
     "data": {
      "text/plain": [
       "355"
      ]
     },
     "execution_count": 9,
     "metadata": {},
     "output_type": "execute_result"
    }
   ],
   "source": [
    "from datetime import datetime\n",
    "\n",
    "df['Month'] = pd.to_datetime(df['Order Date'], format='%m/%d/%y %H:%M', errors='coerce').dt.month\n",
    "df['Month'].isna().sum()"
   ]
  },
  {
   "cell_type": "markdown",
   "metadata": {},
   "source": [
    "We can see that there are some remaining nan values. I think that there were some values that was not in the correct format before transforming it to datetime. So when I transformed to datetime, these values turned into NaN value."
   ]
  },
  {
   "cell_type": "markdown",
   "metadata": {},
   "source": [
    "### Removing the remaining NaN values"
   ]
  },
  {
   "cell_type": "code",
   "execution_count": 10,
   "metadata": {},
   "outputs": [
    {
     "name": "stdout",
     "output_type": "stream",
     "text": [
      "Number of rows droped:  355\n"
     ]
    }
   ],
   "source": [
    "df_rows_before = df.shape[0]\n",
    "\n",
    "df = df.dropna()\n",
    "\n",
    "df_rows_after = df.shape[0]\n",
    "\n",
    "print(\"Number of rows droped: \", df_rows_before - df_rows_after)"
   ]
  },
  {
   "cell_type": "code",
   "execution_count": 11,
   "metadata": {},
   "outputs": [],
   "source": [
    "df['Month'] = df['Month'].astype('int')"
   ]
  },
  {
   "cell_type": "markdown",
   "metadata": {},
   "source": [
    "## Creating a Sales Column"
   ]
  },
  {
   "cell_type": "code",
   "execution_count": 12,
   "metadata": {},
   "outputs": [
    {
     "data": {
      "text/html": [
       "<div>\n",
       "<style scoped>\n",
       "    .dataframe tbody tr th:only-of-type {\n",
       "        vertical-align: middle;\n",
       "    }\n",
       "\n",
       "    .dataframe tbody tr th {\n",
       "        vertical-align: top;\n",
       "    }\n",
       "\n",
       "    .dataframe thead th {\n",
       "        text-align: right;\n",
       "    }\n",
       "</style>\n",
       "<table border=\"1\" class=\"dataframe\">\n",
       "  <thead>\n",
       "    <tr style=\"text-align: right;\">\n",
       "      <th></th>\n",
       "      <th>Order ID</th>\n",
       "      <th>Product</th>\n",
       "      <th>Quantity Ordered</th>\n",
       "      <th>Price Each</th>\n",
       "      <th>Order Date</th>\n",
       "      <th>Purchase Address</th>\n",
       "      <th>Month</th>\n",
       "    </tr>\n",
       "  </thead>\n",
       "  <tbody>\n",
       "    <tr>\n",
       "      <th>0</th>\n",
       "      <td>222910</td>\n",
       "      <td>Apple Airpods Headphones</td>\n",
       "      <td>1</td>\n",
       "      <td>150</td>\n",
       "      <td>07/26/19 16:51</td>\n",
       "      <td>389 South St, Atlanta, GA 30301</td>\n",
       "      <td>7</td>\n",
       "    </tr>\n",
       "    <tr>\n",
       "      <th>1</th>\n",
       "      <td>222911</td>\n",
       "      <td>Flatscreen TV</td>\n",
       "      <td>1</td>\n",
       "      <td>300</td>\n",
       "      <td>07/05/19 08:55</td>\n",
       "      <td>590 4th St, Seattle, WA 98101</td>\n",
       "      <td>7</td>\n",
       "    </tr>\n",
       "    <tr>\n",
       "      <th>2</th>\n",
       "      <td>222912</td>\n",
       "      <td>AA Batteries (4-pack)</td>\n",
       "      <td>1</td>\n",
       "      <td>3.84</td>\n",
       "      <td>07/29/19 12:41</td>\n",
       "      <td>861 Hill St, Atlanta, GA 30301</td>\n",
       "      <td>7</td>\n",
       "    </tr>\n",
       "    <tr>\n",
       "      <th>3</th>\n",
       "      <td>222913</td>\n",
       "      <td>AA Batteries (4-pack)</td>\n",
       "      <td>1</td>\n",
       "      <td>3.84</td>\n",
       "      <td>07/28/19 10:15</td>\n",
       "      <td>190 Ridge St, Atlanta, GA 30301</td>\n",
       "      <td>7</td>\n",
       "    </tr>\n",
       "    <tr>\n",
       "      <th>4</th>\n",
       "      <td>222914</td>\n",
       "      <td>AAA Batteries (4-pack)</td>\n",
       "      <td>5</td>\n",
       "      <td>2.99</td>\n",
       "      <td>07/31/19 02:13</td>\n",
       "      <td>824 Forest St, Seattle, WA 98101</td>\n",
       "      <td>7</td>\n",
       "    </tr>\n",
       "  </tbody>\n",
       "</table>\n",
       "</div>"
      ],
      "text/plain": [
       "  Order ID                   Product Quantity Ordered Price Each  \\\n",
       "0   222910  Apple Airpods Headphones                1        150   \n",
       "1   222911             Flatscreen TV                1        300   \n",
       "2   222912     AA Batteries (4-pack)                1       3.84   \n",
       "3   222913     AA Batteries (4-pack)                1       3.84   \n",
       "4   222914    AAA Batteries (4-pack)                5       2.99   \n",
       "\n",
       "       Order Date                  Purchase Address  Month  \n",
       "0  07/26/19 16:51   389 South St, Atlanta, GA 30301      7  \n",
       "1  07/05/19 08:55     590 4th St, Seattle, WA 98101      7  \n",
       "2  07/29/19 12:41    861 Hill St, Atlanta, GA 30301      7  \n",
       "3  07/28/19 10:15   190 Ridge St, Atlanta, GA 30301      7  \n",
       "4  07/31/19 02:13  824 Forest St, Seattle, WA 98101      7  "
      ]
     },
     "execution_count": 12,
     "metadata": {},
     "output_type": "execute_result"
    }
   ],
   "source": [
    "df.head()"
   ]
  },
  {
   "cell_type": "code",
   "execution_count": 13,
   "metadata": {},
   "outputs": [
    {
     "name": "stdout",
     "output_type": "stream",
     "text": [
      "int64\n",
      "float64\n"
     ]
    },
    {
     "data": {
      "text/html": [
       "<div>\n",
       "<style scoped>\n",
       "    .dataframe tbody tr th:only-of-type {\n",
       "        vertical-align: middle;\n",
       "    }\n",
       "\n",
       "    .dataframe tbody tr th {\n",
       "        vertical-align: top;\n",
       "    }\n",
       "\n",
       "    .dataframe thead th {\n",
       "        text-align: right;\n",
       "    }\n",
       "</style>\n",
       "<table border=\"1\" class=\"dataframe\">\n",
       "  <thead>\n",
       "    <tr style=\"text-align: right;\">\n",
       "      <th></th>\n",
       "      <th>Order ID</th>\n",
       "      <th>Product</th>\n",
       "      <th>Quantity Ordered</th>\n",
       "      <th>Price Each</th>\n",
       "      <th>Order Date</th>\n",
       "      <th>Purchase Address</th>\n",
       "      <th>Month</th>\n",
       "      <th>Sales</th>\n",
       "    </tr>\n",
       "  </thead>\n",
       "  <tbody>\n",
       "    <tr>\n",
       "      <th>0</th>\n",
       "      <td>222910</td>\n",
       "      <td>Apple Airpods Headphones</td>\n",
       "      <td>1</td>\n",
       "      <td>150.00</td>\n",
       "      <td>07/26/19 16:51</td>\n",
       "      <td>389 South St, Atlanta, GA 30301</td>\n",
       "      <td>7</td>\n",
       "      <td>150.00</td>\n",
       "    </tr>\n",
       "    <tr>\n",
       "      <th>1</th>\n",
       "      <td>222911</td>\n",
       "      <td>Flatscreen TV</td>\n",
       "      <td>1</td>\n",
       "      <td>300.00</td>\n",
       "      <td>07/05/19 08:55</td>\n",
       "      <td>590 4th St, Seattle, WA 98101</td>\n",
       "      <td>7</td>\n",
       "      <td>300.00</td>\n",
       "    </tr>\n",
       "    <tr>\n",
       "      <th>2</th>\n",
       "      <td>222912</td>\n",
       "      <td>AA Batteries (4-pack)</td>\n",
       "      <td>1</td>\n",
       "      <td>3.84</td>\n",
       "      <td>07/29/19 12:41</td>\n",
       "      <td>861 Hill St, Atlanta, GA 30301</td>\n",
       "      <td>7</td>\n",
       "      <td>3.84</td>\n",
       "    </tr>\n",
       "    <tr>\n",
       "      <th>3</th>\n",
       "      <td>222913</td>\n",
       "      <td>AA Batteries (4-pack)</td>\n",
       "      <td>1</td>\n",
       "      <td>3.84</td>\n",
       "      <td>07/28/19 10:15</td>\n",
       "      <td>190 Ridge St, Atlanta, GA 30301</td>\n",
       "      <td>7</td>\n",
       "      <td>3.84</td>\n",
       "    </tr>\n",
       "    <tr>\n",
       "      <th>4</th>\n",
       "      <td>222914</td>\n",
       "      <td>AAA Batteries (4-pack)</td>\n",
       "      <td>5</td>\n",
       "      <td>2.99</td>\n",
       "      <td>07/31/19 02:13</td>\n",
       "      <td>824 Forest St, Seattle, WA 98101</td>\n",
       "      <td>7</td>\n",
       "      <td>14.95</td>\n",
       "    </tr>\n",
       "    <tr>\n",
       "      <th>5</th>\n",
       "      <td>222915</td>\n",
       "      <td>Bose SoundSport Headphones</td>\n",
       "      <td>1</td>\n",
       "      <td>99.99</td>\n",
       "      <td>07/03/19 18:30</td>\n",
       "      <td>899 Elm St, San Francisco, CA 94016</td>\n",
       "      <td>7</td>\n",
       "      <td>99.99</td>\n",
       "    </tr>\n",
       "    <tr>\n",
       "      <th>6</th>\n",
       "      <td>222916</td>\n",
       "      <td>Google Phone</td>\n",
       "      <td>1</td>\n",
       "      <td>600.00</td>\n",
       "      <td>07/21/19 22:39</td>\n",
       "      <td>745 Chestnut St, New York City, NY 10001</td>\n",
       "      <td>7</td>\n",
       "      <td>600.00</td>\n",
       "    </tr>\n",
       "    <tr>\n",
       "      <th>7</th>\n",
       "      <td>222917</td>\n",
       "      <td>LG Dryer</td>\n",
       "      <td>1</td>\n",
       "      <td>600.00</td>\n",
       "      <td>07/17/19 13:44</td>\n",
       "      <td>490 Adams St, New York City, NY 10001</td>\n",
       "      <td>7</td>\n",
       "      <td>600.00</td>\n",
       "    </tr>\n",
       "    <tr>\n",
       "      <th>8</th>\n",
       "      <td>222918</td>\n",
       "      <td>USB-C Charging Cable</td>\n",
       "      <td>1</td>\n",
       "      <td>11.95</td>\n",
       "      <td>07/14/19 21:16</td>\n",
       "      <td>207 1st St, Los Angeles, CA 90001</td>\n",
       "      <td>7</td>\n",
       "      <td>11.95</td>\n",
       "    </tr>\n",
       "    <tr>\n",
       "      <th>9</th>\n",
       "      <td>222919</td>\n",
       "      <td>Lightning Charging Cable</td>\n",
       "      <td>1</td>\n",
       "      <td>14.95</td>\n",
       "      <td>07/14/19 13:24</td>\n",
       "      <td>29 Jefferson St, Dallas, TX 75001</td>\n",
       "      <td>7</td>\n",
       "      <td>14.95</td>\n",
       "    </tr>\n",
       "  </tbody>\n",
       "</table>\n",
       "</div>"
      ],
      "text/plain": [
       "  Order ID                     Product  Quantity Ordered  Price Each  \\\n",
       "0   222910    Apple Airpods Headphones                 1      150.00   \n",
       "1   222911               Flatscreen TV                 1      300.00   \n",
       "2   222912       AA Batteries (4-pack)                 1        3.84   \n",
       "3   222913       AA Batteries (4-pack)                 1        3.84   \n",
       "4   222914      AAA Batteries (4-pack)                 5        2.99   \n",
       "5   222915  Bose SoundSport Headphones                 1       99.99   \n",
       "6   222916                Google Phone                 1      600.00   \n",
       "7   222917                    LG Dryer                 1      600.00   \n",
       "8   222918        USB-C Charging Cable                 1       11.95   \n",
       "9   222919    Lightning Charging Cable                 1       14.95   \n",
       "\n",
       "       Order Date                          Purchase Address  Month   Sales  \n",
       "0  07/26/19 16:51           389 South St, Atlanta, GA 30301      7  150.00  \n",
       "1  07/05/19 08:55             590 4th St, Seattle, WA 98101      7  300.00  \n",
       "2  07/29/19 12:41            861 Hill St, Atlanta, GA 30301      7    3.84  \n",
       "3  07/28/19 10:15           190 Ridge St, Atlanta, GA 30301      7    3.84  \n",
       "4  07/31/19 02:13          824 Forest St, Seattle, WA 98101      7   14.95  \n",
       "5  07/03/19 18:30       899 Elm St, San Francisco, CA 94016      7   99.99  \n",
       "6  07/21/19 22:39  745 Chestnut St, New York City, NY 10001      7  600.00  \n",
       "7  07/17/19 13:44     490 Adams St, New York City, NY 10001      7  600.00  \n",
       "8  07/14/19 21:16         207 1st St, Los Angeles, CA 90001      7   11.95  \n",
       "9  07/14/19 13:24         29 Jefferson St, Dallas, TX 75001      7   14.95  "
      ]
     },
     "execution_count": 13,
     "metadata": {},
     "output_type": "execute_result"
    }
   ],
   "source": [
    "df['Quantity Ordered'] = df['Quantity Ordered'].astype('int')\n",
    "df['Price Each'] = df['Price Each'].astype('float64')\n",
    "\n",
    "print(df['Quantity Ordered'].dtype)\n",
    "print(df['Price Each'].dtype)\n",
    "\n",
    "df['Sales'] = df['Quantity Ordered'] * df['Price Each']\n",
    "df.head(10)"
   ]
  },
  {
   "cell_type": "markdown",
   "metadata": {},
   "source": [
    "## Question 1. What was the best month for sales?"
   ]
  },
  {
   "cell_type": "code",
   "execution_count": 14,
   "metadata": {},
   "outputs": [
    {
     "data": {
      "text/plain": [
       "Month\n",
       "1     1822256.73\n",
       "2     2202022.42\n",
       "3     2807100.38\n",
       "4     3390670.24\n",
       "5     3152606.75\n",
       "6     2577802.26\n",
       "7     2647775.76\n",
       "8     2244467.88\n",
       "9     2097560.13\n",
       "10    3736726.88\n",
       "11    3199603.20\n",
       "12    4613443.34\n",
       "Name: Sales, dtype: float64"
      ]
     },
     "execution_count": 14,
     "metadata": {},
     "output_type": "execute_result"
    }
   ],
   "source": [
    "df_month_group = df.groupby(df['Month']).sum()\n",
    "df_month_group['Sales']\n",
    "#print(df_month_group[df_month_group['Sales'] == df_month_group['Sales'].max()]['Month'].values)"
   ]
  },
  {
   "cell_type": "code",
   "execution_count": 15,
   "metadata": {},
   "outputs": [
    {
     "data": {
      "image/png": "[encoded data removed]",
      "text/plain": [
       "<Figure size 640x480 with 1 Axes>"
      ]
     },
     "metadata": {},
     "output_type": "display_data"
    }
   ],
   "source": [
    "import matplotlib.pyplot as plt\n",
    "\n",
    "months = range(1, 13)\n",
    "plt.bar(months, df_month_group['Sales'])\n",
    "plt.xticks(months)\n",
    "plt.xlabel('Month')\n",
    "plt.ylabel('Sales in million USD ($)')\n",
    "\n",
    "plt.show()"
   ]
  },
  {
   "cell_type": "markdown",
   "metadata": {},
   "source": [
    "## Question 2. What city sold the most product?"
   ]
  },
  {
   "cell_type": "code",
   "execution_count": 16,
   "metadata": {},
   "outputs": [
    {
     "data": {
      "text/plain": [
       "City\n",
       "Atlanta (GA)          16602\n",
       "Austin (TX)           11153\n",
       "Boston (MA)           22528\n",
       "Dallas (TX)           16730\n",
       "Los Angeles (CA)      33289\n",
       "New York City (NY)    27932\n",
       "Portland (ME)          2750\n",
       "Portland (OR)         11303\n",
       "San Francisco (CA)    50239\n",
       "Seattle (WA)          16553\n",
       "Name: Quantity Ordered, dtype: int64"
      ]
     },
     "execution_count": 16,
     "metadata": {},
     "output_type": "execute_result"
    }
   ],
   "source": [
    "df['City'] = df['Purchase Address'].apply(lambda x: x.split(',')[1])\n",
    "df['State'] = df['Purchase Address'].apply(lambda x: x.split(',')[2])\n",
    "df['State'] = df['State'].apply(lambda x: x.split(' ')[1])\n",
    "df['City'] = df['City'] + ' (' + df['State'] + ')'\n",
    "\n",
    "df_city = df.groupby('City').sum()\n",
    "\n",
    "df_city['Quantity Ordered'].head(15)"
   ]
  },
  {
   "cell_type": "code",
   "execution_count": 17,
   "metadata": {},
   "outputs": [
    {
     "data": {
      "text/plain": [
       "Text(0, 0.5, 'Quantity Ordered per city')"
      ]
     },
     "execution_count": 17,
     "metadata": {},
     "output_type": "execute_result"
    },
    {
     "data": {
      "image/png": "[encoded data removed]",
      "text/plain": [
       "<Figure size 640x480 with 1 Axes>"
      ]
     },
     "metadata": {},
     "output_type": "display_data"
    }
   ],
   "source": [
    "plt.bar(df_city.index, df_city['Quantity Ordered'])\n",
    "plt.xticks(rotation='vertical')\n",
    "plt.xlabel('City')\n",
    "plt.ylabel('Quantity Ordered per city')"
   ]
  },
  {
   "cell_type": "markdown",
   "metadata": {},
   "source": [
    "## Question 3. What time should we display advertisements to maximize the likelihood of purchases?"
   ]
  },
  {
   "cell_type": "code",
   "execution_count": 20,
   "metadata": {},
   "outputs": [
    {
     "name": "stderr",
     "output_type": "stream",
     "text": [
      "/tmp/ipykernel_133376/1106355747.py:3: UserWarning: Could not infer format, so each element will be parsed individually, falling back to `dateutil`. To ensure parsing is consistent and as-expected, please specify a format.\n",
      "  df['Hour'] = pd.to_datetime(df['Order Date']).dt.hour\n"
     ]
    },
    {
     "data": {
      "image/png": "[encoded data removed]",
      "text/plain": [
       "<Figure size 640x480 with 1 Axes>"
      ]
     },
     "metadata": {},
     "output_type": "display_data"
    }
   ],
   "source": [
    "import seaborn as sns\n",
    "\n",
    "df['Hour'] = pd.to_datetime(df['Order Date']).dt.hour\n",
    "sns.countplot(data=df, x='Hour')\n",
    "plt.grid()\n",
    "plt.show()"
   ]
  },
  {
   "cell_type": "markdown",
   "metadata": {},
   "source": [
    "We should display advertisements at 11 or at 18. "
   ]
  },
  {
   "cell_type": "code",
   "execution_count": 19,
   "metadata": {},
   "outputs": [
    {
     "data": {
      "text/html": [
       "<div>\n",
       "<style scoped>\n",
       "    .dataframe tbody tr th:only-of-type {\n",
       "        vertical-align: middle;\n",
       "    }\n",
       "\n",
       "    .dataframe tbody tr th {\n",
       "        vertical-align: top;\n",
       "    }\n",
       "\n",
       "    .dataframe thead th {\n",
       "        text-align: right;\n",
       "    }\n",
       "</style>\n",
       "<table border=\"1\" class=\"dataframe\">\n",
       "  <thead>\n",
       "    <tr style=\"text-align: right;\">\n",
       "      <th></th>\n",
       "      <th>Order ID</th>\n",
       "      <th>Product</th>\n",
       "      <th>Quantity Ordered</th>\n",
       "      <th>Price Each</th>\n",
       "      <th>Order Date</th>\n",
       "      <th>Purchase Address</th>\n",
       "      <th>Month</th>\n",
       "      <th>Sales</th>\n",
       "      <th>City</th>\n",
       "      <th>State</th>\n",
       "      <th>Hour</th>\n",
       "    </tr>\n",
       "  </thead>\n",
       "  <tbody>\n",
       "    <tr>\n",
       "      <th>0</th>\n",
       "      <td>222910</td>\n",
       "      <td>Apple Airpods Headphones</td>\n",
       "      <td>1</td>\n",
       "      <td>150.00</td>\n",
       "      <td>07/26/19 16:51</td>\n",
       "      <td>389 South St, Atlanta, GA 30301</td>\n",
       "      <td>7</td>\n",
       "      <td>150.00</td>\n",
       "      <td>Atlanta (GA)</td>\n",
       "      <td>GA</td>\n",
       "      <td>16</td>\n",
       "    </tr>\n",
       "    <tr>\n",
       "      <th>1</th>\n",
       "      <td>222911</td>\n",
       "      <td>Flatscreen TV</td>\n",
       "      <td>1</td>\n",
       "      <td>300.00</td>\n",
       "      <td>07/05/19 08:55</td>\n",
       "      <td>590 4th St, Seattle, WA 98101</td>\n",
       "      <td>7</td>\n",
       "      <td>300.00</td>\n",
       "      <td>Seattle (WA)</td>\n",
       "      <td>WA</td>\n",
       "      <td>8</td>\n",
       "    </tr>\n",
       "    <tr>\n",
       "      <th>2</th>\n",
       "      <td>222912</td>\n",
       "      <td>AA Batteries (4-pack)</td>\n",
       "      <td>1</td>\n",
       "      <td>3.84</td>\n",
       "      <td>07/29/19 12:41</td>\n",
       "      <td>861 Hill St, Atlanta, GA 30301</td>\n",
       "      <td>7</td>\n",
       "      <td>3.84</td>\n",
       "      <td>Atlanta (GA)</td>\n",
       "      <td>GA</td>\n",
       "      <td>12</td>\n",
       "    </tr>\n",
       "    <tr>\n",
       "      <th>3</th>\n",
       "      <td>222913</td>\n",
       "      <td>AA Batteries (4-pack)</td>\n",
       "      <td>1</td>\n",
       "      <td>3.84</td>\n",
       "      <td>07/28/19 10:15</td>\n",
       "      <td>190 Ridge St, Atlanta, GA 30301</td>\n",
       "      <td>7</td>\n",
       "      <td>3.84</td>\n",
       "      <td>Atlanta (GA)</td>\n",
       "      <td>GA</td>\n",
       "      <td>10</td>\n",
       "    </tr>\n",
       "    <tr>\n",
       "      <th>4</th>\n",
       "      <td>222914</td>\n",
       "      <td>AAA Batteries (4-pack)</td>\n",
       "      <td>5</td>\n",
       "      <td>2.99</td>\n",
       "      <td>07/31/19 02:13</td>\n",
       "      <td>824 Forest St, Seattle, WA 98101</td>\n",
       "      <td>7</td>\n",
       "      <td>14.95</td>\n",
       "      <td>Seattle (WA)</td>\n",
       "      <td>WA</td>\n",
       "      <td>2</td>\n",
       "    </tr>\n",
       "  </tbody>\n",
       "</table>\n",
       "</div>"
      ],
      "text/plain": [
       "  Order ID                   Product  Quantity Ordered  Price Each  \\\n",
       "0   222910  Apple Airpods Headphones                 1      150.00   \n",
       "1   222911             Flatscreen TV                 1      300.00   \n",
       "2   222912     AA Batteries (4-pack)                 1        3.84   \n",
       "3   222913     AA Batteries (4-pack)                 1        3.84   \n",
       "4   222914    AAA Batteries (4-pack)                 5        2.99   \n",
       "\n",
       "       Order Date                  Purchase Address  Month   Sales  \\\n",
       "0  07/26/19 16:51   389 South St, Atlanta, GA 30301      7  150.00   \n",
       "1  07/05/19 08:55     590 4th St, Seattle, WA 98101      7  300.00   \n",
       "2  07/29/19 12:41    861 Hill St, Atlanta, GA 30301      7    3.84   \n",
       "3  07/28/19 10:15   190 Ridge St, Atlanta, GA 30301      7    3.84   \n",
       "4  07/31/19 02:13  824 Forest St, Seattle, WA 98101      7   14.95   \n",
       "\n",
       "            City State  Hour  \n",
       "0   Atlanta (GA)    GA    16  \n",
       "1   Seattle (WA)    WA     8  \n",
       "2   Atlanta (GA)    GA    12  \n",
       "3   Atlanta (GA)    GA    10  \n",
       "4   Seattle (WA)    WA     2  "
      ]
     },
     "execution_count": 19,
     "metadata": {},
     "output_type": "execute_result"
    }
   ],
   "source": [
    "df.head()"
   ]
  },
  {
   "cell_type": "markdown",
   "metadata": {},
   "source": [
    "## Question 4. What products are often sold the most? Why do you think it did?"
   ]
  },
  {
   "cell_type": "code",
   "execution_count": 25,
   "metadata": {},
   "outputs": [
    {
     "data": {
      "text/plain": [
       "Product\n",
       "USB-C Charging Cable          21903\n",
       "Lightning Charging Cable      21658\n",
       "AAA Batteries (4-pack)        20641\n",
       "AA Batteries (4-pack)         20577\n",
       "Wired Headphones              18882\n",
       "Apple Airpods Headphones      15549\n",
       "Bose SoundSport Headphones    13325\n",
       "27in FHD Monitor               7507\n",
       "iPhone                         6842\n",
       "27in 4K Gaming Monitor         6230\n",
       "34in Ultrawide Monitor         6181\n",
       "Google Phone                   5525\n",
       "Flatscreen TV                  4800\n",
       "Macbook Pro Laptop             4724\n",
       "ThinkPad Laptop                4128\n",
       "20in Monitor                   4101\n",
       "Vareebadd Phone                2065\n",
       "LG Washing Machine              666\n",
       "LG Dryer                        646\n",
       "Name: count, dtype: int64"
      ]
     },
     "execution_count": 25,
     "metadata": {},
     "output_type": "execute_result"
    }
   ],
   "source": [
    "df['Product'].value_counts()"
   ]
  },
  {
   "cell_type": "code",
   "execution_count": 27,
   "metadata": {},
   "outputs": [
    {
     "data": {
      "image/png": "[encoded data removed]",
      "text/plain": [
       "<Figure size 640x480 with 1 Axes>"
      ]
     },
     "metadata": {},
     "output_type": "display_data"
    }
   ],
   "source": [
    "df_product = df.groupby('Product').sum()\n",
    "plt.bar(df_product.index, df_product['Quantity Ordered'])\n",
    "plt.xticks(rotation='vertical')\n",
    "plt.xlabel('Products')\n",
    "plt.ylabel('Quantity Ordered')\n",
    "plt.show()"
   ]
  },
  {
   "cell_type": "markdown",
   "metadata": {},
   "source": [
    "AAA Batteries (4-pack), AA Batteries (4-pack), USB-C Charging Cable, Lightning Charging Cabl and Wirede Headphones are the most sold products. I think it happens, because these itens are cheap."
   ]
  }
 ],
 "metadata": {
  "kernelspec": {
   "display_name": "Python 3",
   "language": "python",
   "name": "python3"
  },
  "language_info": {
   "codemirror_mode": {
    "name": "ipython",
    "version": 3
   },
   "file_extension": ".py",
   "mimetype": "text/x-python",
   "name": "python",
   "nbconvert_exporter": "python",
   "pygments_lexer": "ipython3",
   "version": "3.10.12"
  }
 },
 "nbformat": 4,
 "nbformat_minor": 2
}
